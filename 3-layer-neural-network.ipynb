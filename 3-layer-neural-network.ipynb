{
 "cells": [
  {
   "cell_type": "code",
   "execution_count": 14,
   "metadata": {},
   "outputs": [],
   "source": [
    "import numpy as np"
   ]
  },
  {
   "cell_type": "code",
   "execution_count": 29,
   "metadata": {},
   "outputs": [],
   "source": [
    "#function mapping any value to a value between o and 1 (a sigmoid). This functin is hit on every neuron\n",
    "#useful for creating probabilities out of numbers\n",
    "def nonlin(x, deriv=False):\n",
    "    if(deriv==True):\n",
    "        return x*(1-x)\n",
    "    return 1/(1+np.exp(-x))\n"
   ]
  },
  {
   "cell_type": "code",
   "execution_count": 30,
   "metadata": {},
   "outputs": [],
   "source": [
    "#input dataset is a matrix\n",
    "#four training example with 3 input neurons each\n",
    "x = np.array([[0,0,1], [0,1,1], [1,0,1], [1,1,1]])\n",
    "#output set\n",
    "#four examples 1 output dataset each\n",
    "y = np.array([[0], [1], [1], [0]])"
   ]
  },
  {
   "cell_type": "code",
   "execution_count": 31,
   "metadata": {},
   "outputs": [],
   "source": [
    "#generated random numbers will have the same starting point \n",
    "np.random.seed(1)"
   ]
  },
  {
   "cell_type": "code",
   "execution_count": 32,
   "metadata": {},
   "outputs": [],
   "source": [
    "#creating synapse matrices(connection of each neuron in one layer to neurons of second)\n",
    "#3 layer - 2 synapse matrices with random weights\n",
    "syn0 = 2*np.random.random((3,4)) - 1\n",
    "syn1 = 2*np.random.random((4,1)) - 1\n",
    "\n"
   ]
  },
  {
   "cell_type": "code",
   "execution_count": 33,
   "metadata": {},
   "outputs": [
    {
     "name": "stdout",
     "output_type": "stream",
     "text": [
      "Error: 0.4964100319027255\n",
      "Error: 0.008584525653247157\n",
      "Error: 0.005789459862507806\n",
      "Error: 0.004629176776769983\n",
      "Error: 0.003958765280273646\n",
      "Error: 0.0035101225678616736\n",
      "Output after training\n",
      "[[0.00260572]\n",
      " [0.99672209]\n",
      " [0.99701711]\n",
      " [0.00386759]]\n"
     ]
    }
   ],
   "source": [
    "#training step\n",
    "for j in range(60000):\n",
    "    l0 = x\n",
    "    l1 = nonlin(np.dot(l0, syn0))\n",
    "    l2 = nonlin(np.dot(l1, syn1))\n",
    "    \n",
    "    l2_error = y -l2\n",
    "    if (j % 10000) == 0:\n",
    "        print(\"Error: \" +str(np.mean(np.abs(l2_error))))\n",
    "    \n",
    "    l2_delta = l2_error*nonlin(l2, deriv=True)\n",
    "    l1_error = l2_delta.dot(syn1.T)\n",
    "    l1_delta = l1_error * nonlin(l1, deriv=True)\n",
    "    \n",
    "    #update weights\n",
    "    syn1 += l1.T.dot(l2_delta)\n",
    "    syn0 += l0.T.dot(l1_delta)\n",
    "print(\"Output after training\")\n",
    "print(l2)\n",
    "    "
   ]
  },
  {
   "cell_type": "code",
   "execution_count": null,
   "metadata": {},
   "outputs": [],
   "source": []
  }
 ],
 "metadata": {
  "kernelspec": {
   "display_name": "Python 3",
   "language": "python",
   "name": "python3"
  },
  "language_info": {
   "codemirror_mode": {
    "name": "ipython",
    "version": 3
   },
   "file_extension": ".py",
   "mimetype": "text/x-python",
   "name": "python",
   "nbconvert_exporter": "python",
   "pygments_lexer": "ipython3",
   "version": "3.7.3"
  }
 },
 "nbformat": 4,
 "nbformat_minor": 2
}
